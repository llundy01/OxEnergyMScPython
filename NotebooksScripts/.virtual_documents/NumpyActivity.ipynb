








import numpy as np





a = np.array([1, 2, 3])            # Create a simple array
print("Numpy Array 'a':\n")
print(type(a))                     # Prints type as recognised by Python
print(a.shape)                     # Prints its shape
print(a[0], a[1], a[2])            # Prints certain indexed values
a[0] = 5                           # Change an element of the array
print(a,"\n")                   


print("Numpy Array 'b':\n")
b = np.array([[1,2,3],[4,5,6]])    # Create an array with more 'complexity'
print(b.shape)
print(b)                     
print(b[0, 0], b[0, 1], b[1, 0])  






x = np.array([[1,2],[3,4]])
y = np.array([[5,6],[7,8]])

print(x + y,'\n')
print(x * y,'\n') 

# numpy has many mathematical functions built in - accessed via dot notation
print(np.sqrt(x),'\n')
print(np.dot(x, y),'\n')
print(np.cross(x, y),'\n')





print(x.sum())  # sum over the entire matrix
print(y.mean(axis=1))  # mean of each row








# Create the following 3 x 4 array and call it 'c':
c = np.array([[1,2,3,4],
[ 5,6, 7, 8],
[ 9, 10, 11, 12]])
print(c)






# Print all values in rows 2 & 3
print(c[1], c[2])





# Print the values in the 2nd row and in cols 1 & 3
print(c[1][0], c[1][2])





# Perform a scalar multiplication of c with 4
np.dot(c,4)





# Transpose c
np.transpose(c)





# Reshape c to a 4 x 3 array
c.reshape(4,3)






# Perform an element-wise multiplication of the reshaped c and transposed c
print(c.reshape(4,3)*np.transpose(c))








# create a half hourly power profile for 1 year filled with random numbers between 0 and 50
x = 24*2*365 #nb of half hours in a year 

p = np.random.uniform(0, 50, x)






# reshape the array into daily half hour profiles
d = 24*2 # nb of half hours in a day 

p.reshape(d, x//d) #resahping with a day for a row





# convert to energy
nrj = np.dot(p,0.5) #big array 

nrj_d = np.dot(np.sum(p, axis=1), 0.5)
print(nrj_d)










