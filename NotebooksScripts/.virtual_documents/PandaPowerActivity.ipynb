





# Import Pandas and pandapower below. Be sure to import them correctly
import pandapower as pp








# Use padapower to load a the file called "ThreeBusPlot.json" and assign to a variable called 'net'
net = pp.from_json()





# calling the network object provides some details of its structure
net





# print the object type of the line attribute of net
print(





net.line





# run a power flow on the network using the pandapower runpp function 
pp.





# Set some Dataframe variables up (called: 'df1', 'df2' and 'df3') so that they can be respectively 
# assigned to the 'line', 'res_line', and 'line_geodata' attributes of 'net'. Note these are shallow copies!
df1 = net.line
df2 = 
df3 = 


# explore the contents of the dataframes



# In df1, change the value of 'r_ohm_per_km' from 0.0125 to 0.07. This must be done in only one line.
# Once done, check to see if the change has been made.



# Show that the change in 'df1' ALSO changes 'net.line' - Why would this happen?






# Rerun the power flow on the updated network. Does anything change in the net.res_line?









# plot the network using the pandapower convenience function
from pandapower.plotting import simple_plot








# use collections to plot a colourmap showing line loadings


# plot the same figure on a matplotlib figure making use of the ax keyword within the draw_collections function.
import matplotlib.pyplot as plt
fig, ax = plt.subplots()





# add a basemap to your plot
import contextily as cx






# create a GeoDataFrame







