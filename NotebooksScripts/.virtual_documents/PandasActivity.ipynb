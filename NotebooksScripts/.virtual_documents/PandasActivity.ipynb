


import pandas as pd





df = pd.DataFrame({"Country": ["Namibia", "Portugal", "Egypt", "Haiti", "Thailand", "Bolivia", "Estonia"],
                   "Primary Energy Consumption (TWh)": [22, 258, 1105, 12, 1406, 85, 62]})
df





# create your dataframe here

import pandas as pd
import requests

# Fetch the data.
bgl = pd.read_csv("https://ourworldindata.org/grapher/primary-sub-energy-source.csv?v=1&csvType=filtered&useColumnShortNames=true&tab=table&time=2021..2024&tableSearch=bangla&overlay=download-data", storage_options = {'User-Agent': 'Our World In Data data fetch/1.0'})

# Fetch the metadata
metadata = requests.get("https://ourworldindata.org/grapher/primary-sub-energy-source.metadata.json?v=1&csvType=filtered&useColumnShortNames=true&tab=table&time=2021..2024&tableSearch=bangla&overlay=download-data").json()
bgl


#create the df by hand and copying the values 
import pandas as pd
d =  pd.DataFrame({"year": [2021, 2022,2023],
                   "hydropower_(TWh)": [1.68 , 1.90,1.67 ],
                    "solar_(TWh)" : [1.51,1.59,2.26  ],
                    "coal_(TWh)" : [42.31,55.40 , 81.77 ]})
df


# understand how to use the .mean() function which is a method of the dataframe object





# another useful built-in method for quick data exploration is the .plot() method








# The following implies an internet connection of course
import pandas as pd
usa_gen = pd.read_csv('https://raw.githubusercontent.com/wri/global-power-plant-database/master/source_databases_csv/database_USA.csv')






usa_gen.head(10)





# dot notation
df.Country  


# or using square brackets
df["Primary Energy Consumption (TWh)"].head(3)  


# or using the .loc function
df.loc[2:4, "Country"]


# you can also use conditional statements to index
df[df["Primary Energy Consumption (TWh)"] > 100]


# or use for loops to iterate through an axis
for i, row in df.iterrows():
    print(row["Country"])





# The total number of power plants in the US with capacity greater than 5MW.

big_capacity = usa_gen[usa_gen["capacity_mw"]>5]

nb_pp = len(big_capacity)
print(nb_pp)


# The minimum, maximum and average capacity of the plants in MW.
min_capacity = usa_gen["capacity_mw"].min()
max_capacity = usa_gen["capacity_mw"].max()
avg_capacity = usa_gen["capacity_mw"].mean()

print(min_capacity,
max_capacity,
avg_capacity)


# The number of listed solar farms.



# The number of different plant types listed.


# The year with the highest generation from all of the plants.





# to calculate some summary statistics on the USA power plant capacity data
usa_gen["capacity_mw"].describe()


# to plot capacity vs commissioning year
usa_gen.plot(x="commissioning_year", y="capacity_mw", kind='scatter')






