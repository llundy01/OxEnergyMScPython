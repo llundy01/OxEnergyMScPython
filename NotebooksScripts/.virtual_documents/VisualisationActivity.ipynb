





import matplotlib.pyplot as plt    
import numpy as np

%matplotlib inline
# Any guesses as to what the line above does?   









# Create your x and y data using the Numpy library

x1 = np.linspace(0, 10, 30)
y1 = np.sin(x1)                         

plt.plot(x1, y1, 'o', color='black');         # There are many ways of coding in black as a colour





# For instance:
plt.plot(x1, y1, '--xk');






# get a list of available styles, pick one and try out in the next cell
print(plt.style.available)


plt.style.use('ggplot') 

plt.plot(x1, y1, '--xk');





rng = np.random.RandomState(0)                  
x2 = rng.randn(100) #generate random x-axis values
y2 = rng.randn(100)  #same for y-axis
colors = rng.rand(100)  #random colors for points
sizes = 1000 * rng.rand(100) #random sizes of points

plt.scatter(x2, y2, c=colors, s=sizes, alpha=0.3,
            cmap='viridis')
cbar = plt.colorbar()

plt.show()





rng = np.random.RandomState(0)                  
x2 = rng.randn(100) #generate random x-axis values
y2 = rng.randn(100)  #same for y-axis
colors = rng.rand(100)  #random colors for points
sizes = 1000 * rng.rand(100) #random sizes of points

plt.scatter(x2, y2, c=colors, s=sizes, alpha=0.3,
            cmap='rainbow')
cbar = plt.colorbar()    #create the colorbar
plt.xlabel('Population')     #labels
plt.ylabel('Consumption')  
plt.figure(figsize=(16,6))   #size of the graph
cbar.set_label("Intensity",rotation=270)      # label de la colorbar et rotation

plt.show()











fig, (ax1, ax2) = plt.subplots(nrows=1, ncols=2)  # create a figure containing multiple axes
sn = ax1.plot(x1,y1, color='blue')  # plot sin data as solid blue line 
ax1.set_ylabel('y')  # define a y label
ax1.set_xlabel('x')  # define an x label
dot =  ax2.scatter(x1, y1, c=y, cmap='veridis')  # scatter plot on second axes
cbar = fig.colorbar(dot, ax=ax2)
cbar.set_label('Normalized population')
fig.tight_layout()
plt.show()  # plot the figure






fig, (ax1, ax2) = plt.subplots(nrows=1, ncols=2)
sn = ax1.plot(x1, y1, '-', color='blue'); 
ax1.set_ylabel('a')
ax1.set_xlabel('b')
dot = ax2.scatter(x2, y2, c=colors, s=sizes, alpha=0.3,
            cmap='viridis')
cbar=fig.colorbar(dot, ax=ax2)
cbar.set_label('Normalized population', rotation=270)
fig.tight_layout()
plt.show(fig)








# 1) import separate electricity, gas, IEQ and outdoor temperature data using pandas.
import seaborn as sns
import pandas as pd
ieq = pd.read_csv('../Data/HH_level1_IEQ.csv', index_col=0, parse_dates=True) # file: HH_level1_IEQ.csv
outdoor = pd.read_csv('../Data/HH_outside_TH.csv', index_col=0, parse_dates = True)  # file: HH_outside_TH.csv
elec = pd.read_csv('../Data/HH_elec.csv', index_col=0, parse_dates = True)  # file: HH_elec.csv
gas = pd.read_csv('../Data/HH_gas.csv', index_col=0, parse_dates = True) # file: HH_gas.csv

# concatonate into a single dataframe
combined = pd.concat([elec, gas, ieq, outdoor], axis=1)



# explore the data
## verif 
print(combined.info())
print(combined.head())


# 3) Resampling the data to daily
print(combined.columns)
combined_resampled = combined.resample('D').agg({
    'Electricity (kWh)': 'sum',  # somme quotidienne
    'Gas (kWh)': 'sum',          # somme quotidienne
    'CO2': 'max',               # moyenne quotidienne
    'H': 'mean',
    'LUX': 'mean',
    'PIR': 'mean',
    'RAD': 'mean',
    'T': 'mean',
    'WIND': 'mean',
    'pmv': 'mean',
    'ppd': 'mean',
    'tr': 'mean',
    'out_H': 'mean',
    'out_T': 'mean'
})


# check the data was resampled correctly
combined_resampled.head()


# 4) Using seaborn, create a pairplot of the resampled data to explore relationships between variables.
import seaborn as sns
sns.pairplot(combined_resampled)


# 5) Using seaborn, create a jointplot of two variables that show a correlation.
sns.jointplot(combined_resampled, x='out_T', y='Gas (kWh)', kind='reg')


# 6) Add a day of week column to the resampled dataframe and use seaborn to explore any correlations between day of week and energy use.
# Ajoute une colonne 'day_of_week' (lundi=0, dimanche=6)
combined_resampled['day_of_week'] = combined_resampled.index.dayofweek

# Explore les corrélations entre jour de la semaine et consommation d'énergie
sns.catplot(
    data=combined_resampled,
    x='day_of_week', 
    y='Electricity (kWh)',
    kind='box'  # boîte à moustaches pour visualiser la distribution
)





# Create an interactive bar chart with Plotly - bars side by side
import plotly.graph_objects as go

# Create a single subplot (no secondary y-axis for true side-by-side bars)
fig = go.Figure()

# Add electricity consumption as bars
fig.add_trace(
    go.Bar(
        x=combined_resampled.index,
        y=combined_resampled['Electricity (kWh)'],
        name='Electricity (kWh)',
        marker_color='blue',
        opacity=0.7
    )
)

# Add gas consumption as bars
fig.add_trace(
    go.Bar(
        x=combined_resampled.index,
        y=combined_resampled['Gas (kWh)'],
        name='Gas (kWh)',
        marker_color='red',
        opacity=0.7
    )
)

# Update layout
fig.update_layout(
    title="Daily Energy Consumption at Holywell House - Side by Side Bars",
    xaxis_title="Date",
    yaxis_title="Energy Consumption (kWh)",
    hovermode='x unified',
    width=900,
    height=500,
    barmode='group'  # This ensures bars are side by side
)

# Show the interactive plot
fig.show()



