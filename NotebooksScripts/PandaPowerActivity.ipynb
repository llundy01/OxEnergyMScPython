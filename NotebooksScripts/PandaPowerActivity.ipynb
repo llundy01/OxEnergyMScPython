{
 "cells": [
  {
   "cell_type": "markdown",
   "metadata": {},
   "source": [
    "# Introduction to pandapower \n",
    "\n",
    "pandapower is an open‑source Python library for power system modelling and analysis. It stores information about a network and provides the functionality for running power-flow calculations, plotting, geospatial interpretability and saving that data. As the name suggests it is built on pandas with the network and power-flow results being stored within pandas dataframes.\n",
    "\n",
    "This is a very scaled down introduction to *pandapower* where we load in a JSON file using *pandapower* and use our previous knowledge of Pandas to explore and plot the data.\n",
    "\n",
    "You can access good 'Getting Started' examples and the documentation via the [pandapower website](https://www.pandapower.org/start/)"
   ]
  },
  {
   "cell_type": "markdown",
   "metadata": {},
   "source": [
    "### Import libraries"
   ]
  },
  {
   "cell_type": "code",
   "execution_count": 54,
   "metadata": {},
   "outputs": [],
   "source": [
    "# Import Pandas and pandapower below. Be sure to import them correctly\n",
    "import pandapower as pp\n",
    "import pandas as pd"
   ]
  },
  {
   "cell_type": "markdown",
   "metadata": {},
   "source": [
    "### Networks\n",
    "In pandapower, the Network object is the central container for a power system model. It stores network elements (buses, lines, loads, generators, switches, - more on this next week) as pandas DataFrames and holds power-flow results in matching res_ DataFrames after you run a power flow."
   ]
  },
  {
   "cell_type": "markdown",
   "metadata": {},
   "source": [
    "Networks can be built from scratch using the pandapower.create_* functions, but for ease, lets import a pre-made one.\n",
    "\n",
    "**1. Import the example network saved in 'ThreeBusPlot23.json'. Be sure to add the right path for your file!**"
   ]
  },
  {
   "cell_type": "code",
   "execution_count": 55,
   "metadata": {},
   "outputs": [],
   "source": [
    "# Use padapower to load a the file called \"ThreeBusPlot.json\" and assign to a variable called 'net'\n",
    "net = pp.from_json(r\"C:\\Users\\laria\\Desktop\\Oxford 2k25\\MSc\\Code\\OxEnergyMScPython\\Data\\ThreeBusPlot25.json\")"
   ]
  },
  {
   "cell_type": "markdown",
   "metadata": {},
   "source": [
    "**2. Executing simply net will provide you with some details of what is contained within the network.**"
   ]
  },
  {
   "cell_type": "code",
   "execution_count": 56,
   "metadata": {},
   "outputs": [
    {
     "data": {
      "text/plain": [
       "This pandapower network includes the following parameter tables:\n",
       "   - bus (3 elements)\n",
       "   - load (2 elements)\n",
       "   - ext_grid (1 element)\n",
       "   - line (3 elements)"
      ]
     },
     "execution_count": 56,
     "metadata": {},
     "output_type": "execute_result"
    }
   ],
   "source": [
    "# calling the network object provides some details of its structure\n",
    "net"
   ]
  },
  {
   "cell_type": "markdown",
   "metadata": {},
   "source": [
    "**3. Print the object type of the 'line' attribute of 'net'.**\n"
   ]
  },
  {
   "cell_type": "code",
   "execution_count": 57,
   "metadata": {},
   "outputs": [
    {
     "name": "stdout",
     "output_type": "stream",
     "text": [
      "<class 'pandas.core.frame.DataFrame'>\n"
     ]
    }
   ],
   "source": [
    "# print the object type of the line attribute of net\n",
    "print(type(net.line))\n"
   ]
  },
  {
   "cell_type": "markdown",
   "metadata": {},
   "source": [
    "As you can see, under the hood, pandapower uses Dataframes. \n",
    "\n",
    "**Call net.line to view the dataframe and its contents.**"
   ]
  },
  {
   "cell_type": "code",
   "execution_count": 58,
   "metadata": {},
   "outputs": [
    {
     "data": {
      "text/html": [
       "<div>\n",
       "<style scoped>\n",
       "    .dataframe tbody tr th:only-of-type {\n",
       "        vertical-align: middle;\n",
       "    }\n",
       "\n",
       "    .dataframe tbody tr th {\n",
       "        vertical-align: top;\n",
       "    }\n",
       "\n",
       "    .dataframe thead th {\n",
       "        text-align: right;\n",
       "    }\n",
       "</style>\n",
       "<table border=\"1\" class=\"dataframe\">\n",
       "  <thead>\n",
       "    <tr style=\"text-align: right;\">\n",
       "      <th></th>\n",
       "      <th>name</th>\n",
       "      <th>std_type</th>\n",
       "      <th>from_bus</th>\n",
       "      <th>to_bus</th>\n",
       "      <th>length_km</th>\n",
       "      <th>r_ohm_per_km</th>\n",
       "      <th>x_ohm_per_km</th>\n",
       "      <th>c_nf_per_km</th>\n",
       "      <th>g_us_per_km</th>\n",
       "      <th>max_i_ka</th>\n",
       "      <th>df</th>\n",
       "      <th>parallel</th>\n",
       "      <th>type</th>\n",
       "      <th>in_service</th>\n",
       "      <th>geo</th>\n",
       "    </tr>\n",
       "  </thead>\n",
       "  <tbody>\n",
       "    <tr>\n",
       "      <th>0</th>\n",
       "      <td>None</td>\n",
       "      <td>None</td>\n",
       "      <td>0</td>\n",
       "      <td>1</td>\n",
       "      <td>484.0</td>\n",
       "      <td>0.0200</td>\n",
       "      <td>0.040</td>\n",
       "      <td>1.000000e-09</td>\n",
       "      <td>0.0</td>\n",
       "      <td>1000.0</td>\n",
       "      <td>1.0</td>\n",
       "      <td>1</td>\n",
       "      <td>None</td>\n",
       "      <td>True</td>\n",
       "      <td>{\"coordinates\":[[-1.2763, 51.7503], [-1.189, 5...</td>\n",
       "    </tr>\n",
       "    <tr>\n",
       "      <th>1</th>\n",
       "      <td>None</td>\n",
       "      <td>None</td>\n",
       "      <td>1</td>\n",
       "      <td>2</td>\n",
       "      <td>484.0</td>\n",
       "      <td>0.0125</td>\n",
       "      <td>0.025</td>\n",
       "      <td>1.000000e-09</td>\n",
       "      <td>0.0</td>\n",
       "      <td>1000.0</td>\n",
       "      <td>1.0</td>\n",
       "      <td>1</td>\n",
       "      <td>None</td>\n",
       "      <td>True</td>\n",
       "      <td>{\"coordinates\":[[-1.189, 51.7236], [-1.3269, 5...</td>\n",
       "    </tr>\n",
       "    <tr>\n",
       "      <th>2</th>\n",
       "      <td>None</td>\n",
       "      <td>None</td>\n",
       "      <td>2</td>\n",
       "      <td>0</td>\n",
       "      <td>484.0</td>\n",
       "      <td>0.0100</td>\n",
       "      <td>0.030</td>\n",
       "      <td>1.000000e-09</td>\n",
       "      <td>0.0</td>\n",
       "      <td>1000.0</td>\n",
       "      <td>1.0</td>\n",
       "      <td>1</td>\n",
       "      <td>None</td>\n",
       "      <td>True</td>\n",
       "      <td>{\"coordinates\":[[-1.3269, 51.6312], [-1.2763, ...</td>\n",
       "    </tr>\n",
       "  </tbody>\n",
       "</table>\n",
       "</div>"
      ],
      "text/plain": [
       "   name std_type  from_bus  to_bus  length_km  r_ohm_per_km  x_ohm_per_km  \\\n",
       "0  None     None         0       1      484.0        0.0200         0.040   \n",
       "1  None     None         1       2      484.0        0.0125         0.025   \n",
       "2  None     None         2       0      484.0        0.0100         0.030   \n",
       "\n",
       "    c_nf_per_km  g_us_per_km  max_i_ka   df  parallel  type  in_service  \\\n",
       "0  1.000000e-09          0.0    1000.0  1.0         1  None        True   \n",
       "1  1.000000e-09          0.0    1000.0  1.0         1  None        True   \n",
       "2  1.000000e-09          0.0    1000.0  1.0         1  None        True   \n",
       "\n",
       "                                                 geo  \n",
       "0  {\"coordinates\":[[-1.2763, 51.7503], [-1.189, 5...  \n",
       "1  {\"coordinates\":[[-1.189, 51.7236], [-1.3269, 5...  \n",
       "2  {\"coordinates\":[[-1.3269, 51.6312], [-1.2763, ...  "
      ]
     },
     "execution_count": 58,
     "metadata": {},
     "output_type": "execute_result"
    }
   ],
   "source": [
    "net.line"
   ]
  },
  {
   "cell_type": "markdown",
   "metadata": {},
   "source": [
    "**4. Now run a power flow on the network using the pandapower.runpp function**"
   ]
  },
  {
   "cell_type": "code",
   "execution_count": 59,
   "metadata": {},
   "outputs": [],
   "source": [
    "# run a power flow on the network using the pandapower runpp function \n",
    "pp.runpp(net)"
   ]
  },
  {
   "cell_type": "markdown",
   "metadata": {},
   "source": [
    "**5. Explore the underlying data that contains the power flow results**"
   ]
  },
  {
   "cell_type": "code",
   "execution_count": 60,
   "metadata": {},
   "outputs": [
    {
     "name": "stdout",
     "output_type": "stream",
     "text": [
      "dict_keys(['bus', 'bus_dc', 'load', 'sgen', 'motor', 'asymmetric_load', 'asymmetric_sgen', 'storage', 'gen', 'switch', 'shunt', 'svc', 'ssc', 'vsc', 'ext_grid', 'line', 'line_dc', 'trafo', 'trafo3w', 'impedance', 'tcsc', 'dcline', 'ward', 'xward', 'measurement', 'pwl_cost', 'poly_cost', 'controller', 'group', 'source_dc', 'load_dc', 'b2b_vsc', '_empty_res_b2b_vsc', 'bi_vsc', '_empty_res_bi_vsc', '_empty_res_bus', '_empty_res_bus_dc', '_empty_res_ext_grid', '_empty_res_line', '_empty_res_line_dc', '_empty_res_trafo', '_empty_res_load', '_empty_res_asymmetric_load', '_empty_res_asymmetric_sgen', '_empty_res_motor', '_empty_res_sgen', '_empty_res_shunt', '_empty_res_svc', '_empty_res_ssc', '_empty_res_vsc', '_empty_res_switch', '_empty_res_impedance', '_empty_res_tcsc', '_empty_res_dcline', '_empty_res_source_dc', '_empty_res_load_dc', '_empty_res_ward', '_empty_res_xward', '_empty_res_trafo_3ph', '_empty_res_trafo3w', '_empty_res_bus_3ph', '_empty_res_ext_grid_3ph', '_empty_res_line_3ph', '_empty_res_asymmetric_load_3ph', '_empty_res_asymmetric_sgen_3ph', '_empty_res_storage', '_empty_res_storage_3ph', '_empty_res_gen', '_empty_res_protection', '_ppc', '_ppc0', '_ppc1', '_ppc2', '_is_elements', '_pd2ppc_lookups', 'version', 'format_version', 'converged', 'OPF_converged', 'name', 'f_hz', 'sn_mva', '_empty_res_load_3ph', '_empty_res_sgen_3ph', 'std_types', 'res_bus', 'res_bus_dc', 'res_line', 'res_line_dc', 'res_trafo', 'res_trafo3w', 'res_impedance', 'res_ext_grid', 'res_load', 'res_load_dc', 'res_motor', 'res_sgen', 'res_storage', 'res_shunt', 'res_gen', 'res_ward', 'res_xward', 'res_dcline', 'res_asymmetric_load', 'res_asymmetric_sgen', 'res_source_dc', 'res_switch', 'res_tcsc', 'res_svc', 'res_ssc', 'res_vsc', 'res_b2b_vsc', 'res_bus_est', 'res_line_est', 'res_trafo_est', 'res_trafo3w_est', 'res_impedance_est', 'res_switch_est', 'res_shunt_est', 'res_bus_sc', 'res_line_sc', 'res_trafo_sc', 'res_trafo3w_sc', 'res_ext_grid_sc', 'res_gen_sc', 'res_sgen_sc', 'res_switch_sc', 'res_bus_3ph', 'res_line_3ph', 'res_trafo_3ph', 'res_ext_grid_3ph', 'res_shunt_3ph', 'res_load_3ph', 'res_sgen_3ph', 'res_storage_3ph', 'res_asymmetric_load_3ph', 'res_asymmetric_sgen_3ph', 'user_pf_options', '_options', '_impedance_bb_switches', '_isolated_buses', '_isolated_buses_dc', '_is_elements_final', '_gen_order'])\n"
     ]
    }
   ],
   "source": [
    "print(net.keys())"
   ]
  },
  {
   "cell_type": "code",
   "execution_count": 61,
   "metadata": {},
   "outputs": [],
   "source": [
    "# Set some Dataframe variables up (called: 'df1', 'df2' and 'df3') so that they can be respectively \n",
    "# assigned to the 'line', 'res_line', and 'line_geodata' attributes of 'net'. Note these are shallow copies!\n",
    "df1 = net.line\n",
    "df2 = net.res_line\n",
    "\n",
    "net.line_geodata = pd.DataFrame({\n",
    "    \"x\": [],  # longitudes\n",
    "    \"y\": []   # latitudes\n",
    "})\n",
    "df3 = net.line_geodata"
   ]
  },
  {
   "cell_type": "code",
   "execution_count": 62,
   "metadata": {},
   "outputs": [
    {
     "name": "stdout",
     "output_type": "stream",
     "text": [
      "dict_keys(['bus', 'bus_dc', 'load', 'sgen', 'motor', 'asymmetric_load', 'asymmetric_sgen', 'storage', 'gen', 'switch', 'shunt', 'svc', 'ssc', 'vsc', 'ext_grid', 'line', 'line_dc', 'trafo', 'trafo3w', 'impedance', 'tcsc', 'dcline', 'ward', 'xward', 'measurement', 'pwl_cost', 'poly_cost', 'controller', 'group', 'source_dc', 'load_dc', 'b2b_vsc', '_empty_res_b2b_vsc', 'bi_vsc', '_empty_res_bi_vsc', '_empty_res_bus', '_empty_res_bus_dc', '_empty_res_ext_grid', '_empty_res_line', '_empty_res_line_dc', '_empty_res_trafo', '_empty_res_load', '_empty_res_asymmetric_load', '_empty_res_asymmetric_sgen', '_empty_res_motor', '_empty_res_sgen', '_empty_res_shunt', '_empty_res_svc', '_empty_res_ssc', '_empty_res_vsc', '_empty_res_switch', '_empty_res_impedance', '_empty_res_tcsc', '_empty_res_dcline', '_empty_res_source_dc', '_empty_res_load_dc', '_empty_res_ward', '_empty_res_xward', '_empty_res_trafo_3ph', '_empty_res_trafo3w', '_empty_res_bus_3ph', '_empty_res_ext_grid_3ph', '_empty_res_line_3ph', '_empty_res_asymmetric_load_3ph', '_empty_res_asymmetric_sgen_3ph', '_empty_res_storage', '_empty_res_storage_3ph', '_empty_res_gen', '_empty_res_protection', '_ppc', '_ppc0', '_ppc1', '_ppc2', '_is_elements', '_pd2ppc_lookups', 'version', 'format_version', 'converged', 'OPF_converged', 'name', 'f_hz', 'sn_mva', '_empty_res_load_3ph', '_empty_res_sgen_3ph', 'std_types', 'res_bus', 'res_bus_dc', 'res_line', 'res_line_dc', 'res_trafo', 'res_trafo3w', 'res_impedance', 'res_ext_grid', 'res_load', 'res_load_dc', 'res_motor', 'res_sgen', 'res_storage', 'res_shunt', 'res_gen', 'res_ward', 'res_xward', 'res_dcline', 'res_asymmetric_load', 'res_asymmetric_sgen', 'res_source_dc', 'res_switch', 'res_tcsc', 'res_svc', 'res_ssc', 'res_vsc', 'res_b2b_vsc', 'res_bus_est', 'res_line_est', 'res_trafo_est', 'res_trafo3w_est', 'res_impedance_est', 'res_switch_est', 'res_shunt_est', 'res_bus_sc', 'res_line_sc', 'res_trafo_sc', 'res_trafo3w_sc', 'res_ext_grid_sc', 'res_gen_sc', 'res_sgen_sc', 'res_switch_sc', 'res_bus_3ph', 'res_line_3ph', 'res_trafo_3ph', 'res_ext_grid_3ph', 'res_shunt_3ph', 'res_load_3ph', 'res_sgen_3ph', 'res_storage_3ph', 'res_asymmetric_load_3ph', 'res_asymmetric_sgen_3ph', 'user_pf_options', '_options', '_impedance_bb_switches', '_isolated_buses', '_isolated_buses_dc', '_is_elements_final', '_gen_order', 'line_geodata'])\n",
      "    name  vn_kv type  zone  in_service  \\\n",
      "0  Bus 1  220.0    b  None        True   \n",
      "1  Bus 2  220.0    b  None        True   \n",
      "2  Bus 3  220.0    b  None        True   \n",
      "\n",
      "                                                 geo  \n",
      "0  {\"coordinates\":[-1.2763,51.7503], \"type\":\"Point\"}  \n",
      "1   {\"coordinates\":[-1.189,51.7236], \"type\":\"Point\"}  \n",
      "2  {\"coordinates\":[-1.3269,51.6312], \"type\":\"Point\"}  \n",
      "   name std_type  from_bus  to_bus  length_km  r_ohm_per_km  x_ohm_per_km  \\\n",
      "0  None     None         0       1      484.0        0.0200         0.040   \n",
      "1  None     None         1       2      484.0        0.0125         0.025   \n",
      "2  None     None         2       0      484.0        0.0100         0.030   \n",
      "\n",
      "    c_nf_per_km  g_us_per_km  max_i_ka   df  parallel  type  in_service  \\\n",
      "0  1.000000e-09          0.0    1000.0  1.0         1  None        True   \n",
      "1  1.000000e-09          0.0    1000.0  1.0         1  None        True   \n",
      "2  1.000000e-09          0.0    1000.0  1.0         1  None        True   \n",
      "\n",
      "                                                 geo  \n",
      "0  {\"coordinates\":[[-1.2763, 51.7503], [-1.189, 5...  \n",
      "1  {\"coordinates\":[[-1.189, 51.7236], [-1.3269, 5...  \n",
      "2  {\"coordinates\":[[-1.3269, 51.6312], [-1.2763, ...  \n",
      "Empty DataFrame\n",
      "Columns: [name, std_type, hv_bus, lv_bus, sn_mva, vn_hv_kv, vn_lv_kv, vk_percent, vkr_percent, pfe_kw, i0_percent, shift_degree, tap_side, tap_neutral, tap_min, tap_max, tap_step_percent, tap_step_degree, tap_pos, tap_changer_type, id_characteristic_table, tap_dependency_table, parallel, df, in_service]\n",
      "Index: []\n",
      "\n",
      "[0 rows x 25 columns]\n",
      "     name  bus   p_mw  q_mvar  const_z_p_percent  const_i_p_percent  \\\n",
      "0  Load 1    1  256.6   110.2                0.0                0.0   \n",
      "1  Load 2    2  138.6    45.2                0.0                0.0   \n",
      "\n",
      "   const_z_q_percent  const_i_q_percent  sn_mva  scaling  in_service type  \n",
      "0                0.0                0.0     NaN      1.0        True  wye  \n",
      "1                0.0                0.0     NaN      1.0        True  wye  \n",
      "Empty DataFrame\n",
      "Columns: [name, bus, p_mw, vm_pu, sn_mva, min_q_mvar, max_q_mvar, scaling, slack, controllable, id_q_capability_characteristic, reactive_capability_curve, curve_style, in_service, slack_weight, type]\n",
      "Index: []\n",
      "        name  bus  vm_pu  va_degree  slack_weight  in_service  controllable\n",
      "0  Slack Bus    0   1.05        0.0           1.0        True         False\n",
      "      vm_pu  va_degree   p_mw  q_mvar\n",
      "0  1.050000   0.000000 -409.5  -189.0\n",
      "1  0.981835  -3.503532  256.6   110.2\n",
      "2  1.001249  -2.862405  138.6    45.2\n",
      "   p_from_mw  q_from_mvar  p_to_mw  q_to_mvar  pl_mw  ql_mvar  i_from_ka  \\\n",
      "0      199.5         84.0   -191.0      -67.0    8.5     17.0   0.541017   \n",
      "1      -65.6        -43.2     66.4       44.8    0.8      1.6   0.209946   \n",
      "2     -205.0        -90.0    210.0      105.0    5.0     15.0   0.586816   \n",
      "\n",
      "    i_to_ka      i_ka  vm_from_pu  va_from_degree  vm_to_pu  va_to_degree  \\\n",
      "0  0.541017  0.541017    1.050000        0.000000  0.981835     -3.503532   \n",
      "1  0.209946  0.209946    0.981835       -3.503532  1.001249     -2.862405   \n",
      "2  0.586816  0.586816    1.001249       -2.862405  1.050000      0.000000   \n",
      "\n",
      "   loading_percent  \n",
      "0         0.054102  \n",
      "1         0.020995  \n",
      "2         0.058682  \n"
     ]
    }
   ],
   "source": [
    "# explore the contents of the dataframes\n",
    "print(net.keys())\n",
    "net.res_bus.head()     # tensions et angles par bus\n",
    "net.res_line.head()    # flux de puissance dans les lignes\n",
    "net.res_load.head()    # puissance consommée\n",
    "net.res_gen.head()     # puissance produite\n",
    "# afficher les premières lignes de chaque tableau principal\n",
    "print(net.bus.head())         # infos sur les bus\n",
    "print(net.line.head())        # caractéristiques des lignes\n",
    "print(net.trafo.head())       # transformateurs\n",
    "print(net.load.head())        # charges\n",
    "print(net.gen.head())         # générateurs\n",
    "print(net.ext_grid.head())    # connexion réseau externe\n",
    "print(net.res_bus.head())     # résultats tension par bus\n",
    "print(net.res_line.head())    # résultats flux par ligne\n"
   ]
  },
  {
   "cell_type": "code",
   "execution_count": 66,
   "metadata": {},
   "outputs": [],
   "source": [
    "# In df1, change the value of 'r_ohm_per_km' from 0.0125 to 0.07. This must be done in only one line.\n",
    "# Once done, check to see if the change has been made.\n",
    "df1.loc[1, \"r_ohm_per_km\"] = 0.07"
   ]
  },
  {
   "cell_type": "code",
   "execution_count": 67,
   "metadata": {},
   "outputs": [
    {
     "data": {
      "text/html": [
       "<div>\n",
       "<style scoped>\n",
       "    .dataframe tbody tr th:only-of-type {\n",
       "        vertical-align: middle;\n",
       "    }\n",
       "\n",
       "    .dataframe tbody tr th {\n",
       "        vertical-align: top;\n",
       "    }\n",
       "\n",
       "    .dataframe thead th {\n",
       "        text-align: right;\n",
       "    }\n",
       "</style>\n",
       "<table border=\"1\" class=\"dataframe\">\n",
       "  <thead>\n",
       "    <tr style=\"text-align: right;\">\n",
       "      <th></th>\n",
       "      <th>name</th>\n",
       "      <th>std_type</th>\n",
       "      <th>from_bus</th>\n",
       "      <th>to_bus</th>\n",
       "      <th>length_km</th>\n",
       "      <th>r_ohm_per_km</th>\n",
       "      <th>x_ohm_per_km</th>\n",
       "      <th>c_nf_per_km</th>\n",
       "      <th>g_us_per_km</th>\n",
       "      <th>max_i_ka</th>\n",
       "      <th>df</th>\n",
       "      <th>parallel</th>\n",
       "      <th>type</th>\n",
       "      <th>in_service</th>\n",
       "      <th>geo</th>\n",
       "    </tr>\n",
       "  </thead>\n",
       "  <tbody>\n",
       "    <tr>\n",
       "      <th>0</th>\n",
       "      <td>None</td>\n",
       "      <td>None</td>\n",
       "      <td>0</td>\n",
       "      <td>1</td>\n",
       "      <td>484.0</td>\n",
       "      <td>0.02</td>\n",
       "      <td>0.040</td>\n",
       "      <td>1.000000e-09</td>\n",
       "      <td>0.0</td>\n",
       "      <td>1000.0</td>\n",
       "      <td>1.0</td>\n",
       "      <td>1</td>\n",
       "      <td>None</td>\n",
       "      <td>True</td>\n",
       "      <td>{\"coordinates\":[[-1.2763, 51.7503], [-1.189, 5...</td>\n",
       "    </tr>\n",
       "    <tr>\n",
       "      <th>1</th>\n",
       "      <td>None</td>\n",
       "      <td>None</td>\n",
       "      <td>1</td>\n",
       "      <td>2</td>\n",
       "      <td>484.0</td>\n",
       "      <td>0.07</td>\n",
       "      <td>0.025</td>\n",
       "      <td>1.000000e-09</td>\n",
       "      <td>0.0</td>\n",
       "      <td>1000.0</td>\n",
       "      <td>1.0</td>\n",
       "      <td>1</td>\n",
       "      <td>None</td>\n",
       "      <td>True</td>\n",
       "      <td>{\"coordinates\":[[-1.189, 51.7236], [-1.3269, 5...</td>\n",
       "    </tr>\n",
       "    <tr>\n",
       "      <th>2</th>\n",
       "      <td>None</td>\n",
       "      <td>None</td>\n",
       "      <td>2</td>\n",
       "      <td>0</td>\n",
       "      <td>484.0</td>\n",
       "      <td>0.01</td>\n",
       "      <td>0.030</td>\n",
       "      <td>1.000000e-09</td>\n",
       "      <td>0.0</td>\n",
       "      <td>1000.0</td>\n",
       "      <td>1.0</td>\n",
       "      <td>1</td>\n",
       "      <td>None</td>\n",
       "      <td>True</td>\n",
       "      <td>{\"coordinates\":[[-1.3269, 51.6312], [-1.2763, ...</td>\n",
       "    </tr>\n",
       "  </tbody>\n",
       "</table>\n",
       "</div>"
      ],
      "text/plain": [
       "   name std_type  from_bus  to_bus  length_km  r_ohm_per_km  x_ohm_per_km  \\\n",
       "0  None     None         0       1      484.0          0.02         0.040   \n",
       "1  None     None         1       2      484.0          0.07         0.025   \n",
       "2  None     None         2       0      484.0          0.01         0.030   \n",
       "\n",
       "    c_nf_per_km  g_us_per_km  max_i_ka   df  parallel  type  in_service  \\\n",
       "0  1.000000e-09          0.0    1000.0  1.0         1  None        True   \n",
       "1  1.000000e-09          0.0    1000.0  1.0         1  None        True   \n",
       "2  1.000000e-09          0.0    1000.0  1.0         1  None        True   \n",
       "\n",
       "                                                 geo  \n",
       "0  {\"coordinates\":[[-1.2763, 51.7503], [-1.189, 5...  \n",
       "1  {\"coordinates\":[[-1.189, 51.7236], [-1.3269, 5...  \n",
       "2  {\"coordinates\":[[-1.3269, 51.6312], [-1.2763, ...  "
      ]
     },
     "execution_count": 67,
     "metadata": {},
     "output_type": "execute_result"
    }
   ],
   "source": [
    "# Show that the change in 'df1' ALSO changes 'net.line' - Why would this happen?\n",
    "net.line\n",
    "#Those 2 are connected "
   ]
  },
  {
   "cell_type": "markdown",
   "metadata": {},
   "source": [
    "**6. Rerun the power flow on the updated network. Does anything change in the net.res_line?**"
   ]
  },
  {
   "cell_type": "code",
   "execution_count": 68,
   "metadata": {},
   "outputs": [
    {
     "data": {
      "text/html": [
       "<div>\n",
       "<style scoped>\n",
       "    .dataframe tbody tr th:only-of-type {\n",
       "        vertical-align: middle;\n",
       "    }\n",
       "\n",
       "    .dataframe tbody tr th {\n",
       "        vertical-align: top;\n",
       "    }\n",
       "\n",
       "    .dataframe thead th {\n",
       "        text-align: right;\n",
       "    }\n",
       "</style>\n",
       "<table border=\"1\" class=\"dataframe\">\n",
       "  <thead>\n",
       "    <tr style=\"text-align: right;\">\n",
       "      <th></th>\n",
       "      <th>p_from_mw</th>\n",
       "      <th>q_from_mvar</th>\n",
       "      <th>p_to_mw</th>\n",
       "      <th>q_to_mvar</th>\n",
       "      <th>pl_mw</th>\n",
       "      <th>ql_mvar</th>\n",
       "      <th>i_from_ka</th>\n",
       "      <th>i_to_ka</th>\n",
       "      <th>i_ka</th>\n",
       "      <th>vm_from_pu</th>\n",
       "      <th>va_from_degree</th>\n",
       "      <th>vm_to_pu</th>\n",
       "      <th>va_to_degree</th>\n",
       "      <th>loading_percent</th>\n",
       "    </tr>\n",
       "  </thead>\n",
       "  <tbody>\n",
       "    <tr>\n",
       "      <th>0</th>\n",
       "      <td>208.073272</td>\n",
       "      <td>120.117834</td>\n",
       "      <td>-197.602019</td>\n",
       "      <td>-99.175328</td>\n",
       "      <td>10.471253</td>\n",
       "      <td>20.942505</td>\n",
       "      <td>0.600483</td>\n",
       "      <td>0.600483</td>\n",
       "      <td>0.600483</td>\n",
       "      <td>1.050000</td>\n",
       "      <td>0.000000</td>\n",
       "      <td>0.966254</td>\n",
       "      <td>-3.345434</td>\n",
       "      <td>0.060048</td>\n",
       "    </tr>\n",
       "    <tr>\n",
       "      <th>1</th>\n",
       "      <td>-58.997981</td>\n",
       "      <td>-11.024672</td>\n",
       "      <td>61.698800</td>\n",
       "      <td>11.989250</td>\n",
       "      <td>2.700819</td>\n",
       "      <td>0.964578</td>\n",
       "      <td>0.163010</td>\n",
       "      <td>0.163010</td>\n",
       "      <td>0.163010</td>\n",
       "      <td>0.966254</td>\n",
       "      <td>-3.345434</td>\n",
       "      <td>1.011874</td>\n",
       "      <td>-2.933335</td>\n",
       "      <td>0.016301</td>\n",
       "    </tr>\n",
       "    <tr>\n",
       "      <th>2</th>\n",
       "      <td>-200.298800</td>\n",
       "      <td>-57.189250</td>\n",
       "      <td>204.536586</td>\n",
       "      <td>69.902608</td>\n",
       "      <td>4.237786</td>\n",
       "      <td>12.713358</td>\n",
       "      <td>0.540239</td>\n",
       "      <td>0.540239</td>\n",
       "      <td>0.540239</td>\n",
       "      <td>1.011874</td>\n",
       "      <td>-2.933335</td>\n",
       "      <td>1.050000</td>\n",
       "      <td>0.000000</td>\n",
       "      <td>0.054024</td>\n",
       "    </tr>\n",
       "  </tbody>\n",
       "</table>\n",
       "</div>"
      ],
      "text/plain": [
       "    p_from_mw  q_from_mvar     p_to_mw  q_to_mvar      pl_mw    ql_mvar  \\\n",
       "0  208.073272   120.117834 -197.602019 -99.175328  10.471253  20.942505   \n",
       "1  -58.997981   -11.024672   61.698800  11.989250   2.700819   0.964578   \n",
       "2 -200.298800   -57.189250  204.536586  69.902608   4.237786  12.713358   \n",
       "\n",
       "   i_from_ka   i_to_ka      i_ka  vm_from_pu  va_from_degree  vm_to_pu  \\\n",
       "0   0.600483  0.600483  0.600483    1.050000        0.000000  0.966254   \n",
       "1   0.163010  0.163010  0.163010    0.966254       -3.345434  1.011874   \n",
       "2   0.540239  0.540239  0.540239    1.011874       -2.933335  1.050000   \n",
       "\n",
       "   va_to_degree  loading_percent  \n",
       "0     -3.345434         0.060048  \n",
       "1     -2.933335         0.016301  \n",
       "2      0.000000         0.054024  "
      ]
     },
     "execution_count": 68,
     "metadata": {},
     "output_type": "execute_result"
    }
   ],
   "source": [
    "# Rerun the power flow on the updated network. Does anything change in the net.res_line?\n",
    "pp.runpp(net)\n",
    "\n",
    "# vérifier si les flux dans les lignes ont changé\n",
    "df_line_res = net.res_line.copy()\n",
    "df_line_res.head()    # affiche tensions et puissances sur les lignes\n",
    "\n"
   ]
  },
  {
   "cell_type": "markdown",
   "metadata": {},
   "source": [
    "### Plotting"
   ]
  },
  {
   "cell_type": "markdown",
   "metadata": {},
   "source": [
    "**7. From the pandapower.plotting module, import the simple_plotting convenience function and use it to plot the network.**"
   ]
  },
  {
   "cell_type": "code",
   "execution_count": 82,
   "metadata": {},
   "outputs": [],
   "source": [
    "# plot the network using the pandapower convenience function\n",
    "from pandapower.plotting import simple_plot, cmap_continuous"
   ]
  },
  {
   "cell_type": "markdown",
   "metadata": {},
   "source": [
    "For more examples of basic plotting, take a look at the basic [plotting tutorial](https://github.com/e2nIEE/pandapower/blob/master/tutorials/plotting_basic.ipynb)."
   ]
  },
  {
   "cell_type": "markdown",
   "metadata": {},
   "source": [
    "**8. With reference to [pandapower colormap tutorial](https://github.com/e2nIEE/pandapower/blob/master/tutorials/plotting_colormaps.ipynb), trying plotting a color map highlighting the line loadings for the 3 bus network. Check the lines dataframe to identify a color ranges that will highlight the different line loadings for this particular network loading.**"
   ]
  },
  {
   "cell_type": "code",
   "execution_count": 83,
   "metadata": {},
   "outputs": [
    {
     "name": "stderr",
     "output_type": "stream",
     "text": [
      "The supplied network uses an outdated geodata format. Please update your geodata by\n",
      "running `pandapower.plotting.geo.convert_geodata_to_geojson(net)`\n"
     ]
    },
    {
     "data": {
      "image/png": "[encoded data removed]",
      "text/plain": [
       "<Figure size 1000x800 with 1 Axes>"
      ]
     },
     "metadata": {},
     "output_type": "display_data"
    }
   ],
   "source": [
    "# use collections to plot a colourmap showing line loadings\n",
    "simple_plot(net,line_color=\"r\", bus_size=1.0)\n",
    "\n",
    "\n",
    "#essayer un autre type de plot ??? \n",
    "cmap_list=[(20, \"green\"), (50, \"yellow\"), (60, \"red\")]\n",
    "cmap, norm = cmap_continuous(cmap_list)"
   ]
  },
  {
   "cell_type": "code",
   "execution_count": 86,
   "metadata": {},
   "outputs": [
    {
     "name": "stderr",
     "output_type": "stream",
     "text": [
      "The supplied network uses an outdated geodata format. Please update your geodata by\n",
      "running `pandapower.plotting.geo.convert_geodata_to_geojson(net)`\n"
     ]
    },
    {
     "data": {
      "image/png": "[encoded data removed]",
      "text/plain": [
       "<Figure size 1000x600 with 1 Axes>"
      ]
     },
     "metadata": {},
     "output_type": "display_data"
    }
   ],
   "source": [
    "# plot the same figure on a matplotlib figure making use of the ax keyword within the draw_collections function.\n",
    "import matplotlib.pyplot as plt\n",
    "fig, ax = plt.subplots(figsize=(10,6))\n",
    "\n",
    "simple_plot(net, ax=ax, line_color=\"r\", bus_size=1.0)\n",
    "plt.show()"
   ]
  },
  {
   "cell_type": "markdown",
   "metadata": {},
   "source": [
    "**9. Try adding a basemap to your plot. There are many ways in which you could do this, one library that makes this particularly helpful is contextily. Use the contextily.add_basemap function to add a basemap to your previous plot.**\n",
    "\n",
    "Note: The coordinates within the network is gcs epsg:4326, e.g. lat long"
   ]
  },
  {
   "cell_type": "code",
   "execution_count": 95,
   "metadata": {},
   "outputs": [
    {
     "data": {
      "image/png": "[encoded data removed]",
      "text/plain": [
       "<Figure size 1200x800 with 1 Axes>"
      ]
     },
     "metadata": {},
     "output_type": "display_data"
    },
    {
     "ename": "AttributeError",
     "evalue": "Stamen",
     "output_type": "error",
     "traceback": [
      "\u001b[31m---------------------------------------------------------------------------\u001b[39m",
      "\u001b[31mKeyError\u001b[39m                                  Traceback (most recent call last)",
      "\u001b[36mFile \u001b[39m\u001b[32m~\\miniforge3\\condabin\\envs\\GeoPower\\Lib\\site-packages\\xyzservices\\lib.py:45\u001b[39m, in \u001b[36mBunch.__getattr__\u001b[39m\u001b[34m(self, key)\u001b[39m\n\u001b[32m     44\u001b[39m \u001b[38;5;28;01mtry\u001b[39;00m:\n\u001b[32m---> \u001b[39m\u001b[32m45\u001b[39m     \u001b[38;5;28;01mreturn\u001b[39;00m \u001b[38;5;28;43mself\u001b[39;49m\u001b[43m.\u001b[49m\u001b[34;43m__getitem__\u001b[39;49m\u001b[43m(\u001b[49m\u001b[43mkey\u001b[49m\u001b[43m)\u001b[49m\n\u001b[32m     46\u001b[39m \u001b[38;5;28;01mexcept\u001b[39;00m \u001b[38;5;167;01mKeyError\u001b[39;00m \u001b[38;5;28;01mas\u001b[39;00m err:\n",
      "\u001b[31mKeyError\u001b[39m: 'Stamen'",
      "\nThe above exception was the direct cause of the following exception:\n",
      "\u001b[31mAttributeError\u001b[39m                            Traceback (most recent call last)",
      "\u001b[36mCell\u001b[39m\u001b[36m \u001b[39m\u001b[32mIn[95]\u001b[39m\u001b[32m, line 15\u001b[39m\n\u001b[32m     11\u001b[39m simple_plot(net, ax=ax, line_color=\u001b[33m\"\u001b[39m\u001b[33mr\u001b[39m\u001b[33m\"\u001b[39m, bus_size=\u001b[32m0.8\u001b[39m)\n\u001b[32m     13\u001b[39m \u001b[38;5;66;03m# 4) convertir l’axe en projection EPSG:3857 pour contextily\u001b[39;00m\n\u001b[32m     14\u001b[39m \u001b[38;5;66;03m# contextily transforme automatiquement si tu passes crs=3857\u001b[39;00m\n\u001b[32m---> \u001b[39m\u001b[32m15\u001b[39m cx.add_basemap(ax, crs=\u001b[33m\"\u001b[39m\u001b[33mEPSG:4326\u001b[39m\u001b[33m\"\u001b[39m, source=\u001b[43mcx\u001b[49m\u001b[43m.\u001b[49m\u001b[43mproviders\u001b[49m\u001b[43m.\u001b[49m\u001b[43mStamen\u001b[49m.TerrainBackground)\n\u001b[32m     17\u001b[39m \u001b[38;5;66;03m# 5) afficher\u001b[39;00m\n\u001b[32m     18\u001b[39m plt.show()\n",
      "\u001b[36mFile \u001b[39m\u001b[32m~\\miniforge3\\condabin\\envs\\GeoPower\\Lib\\site-packages\\xyzservices\\lib.py:47\u001b[39m, in \u001b[36mBunch.__getattr__\u001b[39m\u001b[34m(self, key)\u001b[39m\n\u001b[32m     45\u001b[39m     \u001b[38;5;28;01mreturn\u001b[39;00m \u001b[38;5;28mself\u001b[39m.\u001b[34m__getitem__\u001b[39m(key)\n\u001b[32m     46\u001b[39m \u001b[38;5;28;01mexcept\u001b[39;00m \u001b[38;5;167;01mKeyError\u001b[39;00m \u001b[38;5;28;01mas\u001b[39;00m err:\n\u001b[32m---> \u001b[39m\u001b[32m47\u001b[39m     \u001b[38;5;28;01mraise\u001b[39;00m \u001b[38;5;167;01mAttributeError\u001b[39;00m(key) \u001b[38;5;28;01mfrom\u001b[39;00m\u001b[38;5;250m \u001b[39m\u001b[34;01merr\u001b[39;00m\n",
      "\u001b[31mAttributeError\u001b[39m: Stamen"
     ]
    }
   ],
   "source": [
    "import contextily as cx\n",
    "\n",
    "import pandapower.plotting.geo as geo\n",
    "# 1) convertir au nouveau format GeoJSON\n",
    "geo.convert_geodata_to_geojson(net)\n",
    "\n",
    "# 2) créer figure et axe\n",
    "fig, ax = plt.subplots(figsize=(12,8))\n",
    "\n",
    "# 3) tracer le réseau\n",
    "simple_plot(net, ax=ax, line_color=\"r\", bus_size=0.8)\n",
    "\n",
    "# 4) convertir l’axe en projection EPSG:3857 pour contextily\n",
    "# contextily transforme automatiquement si tu passes crs=3857\n",
    "cx.add_basemap(ax, crs=\"EPSG:4326\", source=cx.providers.Stamen.TerrainBackground)\n",
    "\n",
    "# 5) afficher\n",
    "plt.show()"
   ]
  },
  {
   "cell_type": "code",
   "execution_count": 96,
   "metadata": {},
   "outputs": [
    {
     "data": {
      "image/png": "[encoded data removed]",
      "text/plain": [
       "<Figure size 1000x600 with 1 Axes>"
      ]
     },
     "metadata": {},
     "output_type": "display_data"
    },
    {
     "data": {
      "text/plain": [
       "<Figure size 640x480 with 0 Axes>"
      ]
     },
     "metadata": {},
     "output_type": "display_data"
    }
   ],
   "source": [
    "# add a basemap to your plot\n",
    "import contextily as cx\n",
    "\n",
    "import pandapower.plotting.geo as geo\n",
    "geo.convert_geodata_to_geojson(net)\n",
    "#convertir les data en geopanda pour pouvoir tracer\n",
    "\n",
    "fig, ax = plt.subplots(figsize=(10,6))\n",
    "\n",
    "# tracer le réseau (passer ax)\n",
    "simple_plot(net, ax=ax, line_color=\"r\", bus_size=0.8)\n",
    "\n",
    "# ajouter le basemap (le réseau doit être en EPSG:4326)\n",
    "cx.add_basemap(ax, crs=\"EPSG:4326\")\n",
    "\n",
    "plt.show()"
   ]
  },
  {
   "cell_type": "markdown",
   "metadata": {},
   "source": [
    "For more geospatial analysis options, you might want to convert your pandapower dataframes into a geopandas dataframe.\n",
    "\n",
    "**10. Create a GeoDataFrame from the bus and bus_geodata dataframes. Your GDF should have a 'geometry' column containing Point objects and have a crs assigned.**"
   ]
  },
  {
   "cell_type": "code",
   "execution_count": 9,
   "metadata": {},
   "outputs": [],
   "source": [
    "# create a GeoDataFrame\n"
   ]
  },
  {
   "cell_type": "markdown",
   "metadata": {},
   "source": [
    "### Timeseries\n",
    "So far, the power flow has been solved for a single timestamp. How might you go about solving for a timeseries of load and generation?\n",
    "\n",
    "**11. Write some pseudo code for a general structure of how you could achieve it.**\n",
    "\n",
    "PandaPower has some built in functions that simplify this for you. Take a look at the [timeseries tutorial](https://github.com/e2nIEE/pandapower/blob/develop/tutorials/time_series.ipynb) if you want more information."
   ]
  },
  {
   "cell_type": "code",
   "execution_count": null,
   "metadata": {},
   "outputs": [],
   "source": []
  }
 ],
 "metadata": {
  "kernelspec": {
   "display_name": "Python 3 (ipykernel)",
   "language": "python",
   "name": "python3"
  },
  "language_info": {
   "codemirror_mode": {
    "name": "ipython",
    "version": 3
   },
   "file_extension": ".py",
   "mimetype": "text/x-python",
   "name": "python",
   "nbconvert_exporter": "python",
   "pygments_lexer": "ipython3",
   "version": "3.12.12"
  }
 },
 "nbformat": 4,
 "nbformat_minor": 4
}
