{
 "cells": [
  {
   "cell_type": "markdown",
   "metadata": {},
   "source": [
    "# Pandas\n",
    "Pandas is the go-to for data processing in python. (it is built on Numpy).\n",
    "\n",
    "Pandas provides tabular data structures for high-performance functions to analyse, clean, explore, and manipulate ‘big’ multidimensional and heterogeneous data.\n",
    "\n",
    "Think of Pandas data structures like you would a spreadsheet (like in Excel) or an SQL table – but faster, easier and more powerful.\n",
    "\n",
    "Pandas has two core data structures:\n",
    "\n",
    "**Series** - A one-dimensional labelled homogeneous array containing data of any type. It is similar to a list, but has additional features such as indexing, slicing, and missing value handling. \n",
    "\n",
    "**DataFrame** - A two-dimensional, labelled, and heterogeneous tabular data structure with its own indexing system.\n",
    "\n",
    "First, lets make sure pandas has been imported:"
   ]
  },
  {
   "cell_type": "code",
   "execution_count": 2,
   "metadata": {},
   "outputs": [],
   "source": [
    "import pandas as pd"
   ]
  },
  {
   "cell_type": "markdown",
   "metadata": {},
   "source": [
    "## Let's work with Pandas Dataframes\n",
    "The first step will involve you creating a hypothetical dataframe and then you will move on to importing energy data with Pandas to perform basic descriptive statistics.\n",
    "\n",
    "There are many ways to create a DataFrame, from scratch, most closely resemble a python dictionary with nested lists."
   ]
  },
  {
   "cell_type": "code",
   "execution_count": 3,
   "metadata": {},
   "outputs": [
    {
     "data": {
      "text/html": [
       "<div>\n",
       "<style scoped>\n",
       "    .dataframe tbody tr th:only-of-type {\n",
       "        vertical-align: middle;\n",
       "    }\n",
       "\n",
       "    .dataframe tbody tr th {\n",
       "        vertical-align: top;\n",
       "    }\n",
       "\n",
       "    .dataframe thead th {\n",
       "        text-align: right;\n",
       "    }\n",
       "</style>\n",
       "<table border=\"1\" class=\"dataframe\">\n",
       "  <thead>\n",
       "    <tr style=\"text-align: right;\">\n",
       "      <th></th>\n",
       "      <th>Country</th>\n",
       "      <th>Primary Energy Consumption (TWh)</th>\n",
       "    </tr>\n",
       "  </thead>\n",
       "  <tbody>\n",
       "    <tr>\n",
       "      <th>0</th>\n",
       "      <td>Namibia</td>\n",
       "      <td>22</td>\n",
       "    </tr>\n",
       "    <tr>\n",
       "      <th>1</th>\n",
       "      <td>Portugal</td>\n",
       "      <td>258</td>\n",
       "    </tr>\n",
       "    <tr>\n",
       "      <th>2</th>\n",
       "      <td>Egypt</td>\n",
       "      <td>1105</td>\n",
       "    </tr>\n",
       "    <tr>\n",
       "      <th>3</th>\n",
       "      <td>Haiti</td>\n",
       "      <td>12</td>\n",
       "    </tr>\n",
       "    <tr>\n",
       "      <th>4</th>\n",
       "      <td>Thailand</td>\n",
       "      <td>1406</td>\n",
       "    </tr>\n",
       "    <tr>\n",
       "      <th>5</th>\n",
       "      <td>Bolivia</td>\n",
       "      <td>85</td>\n",
       "    </tr>\n",
       "    <tr>\n",
       "      <th>6</th>\n",
       "      <td>Estonia</td>\n",
       "      <td>62</td>\n",
       "    </tr>\n",
       "  </tbody>\n",
       "</table>\n",
       "</div>"
      ],
      "text/plain": [
       "    Country  Primary Energy Consumption (TWh)\n",
       "0   Namibia                                22\n",
       "1  Portugal                               258\n",
       "2     Egypt                              1105\n",
       "3     Haiti                                12\n",
       "4  Thailand                              1406\n",
       "5   Bolivia                                85\n",
       "6   Estonia                                62"
      ]
     },
     "execution_count": 3,
     "metadata": {},
     "output_type": "execute_result"
    }
   ],
   "source": [
    "df = pd.DataFrame({\"Country\": [\"Namibia\", \"Portugal\", \"Egypt\", \"Haiti\", \"Thailand\", \"Bolivia\", \"Estonia\"],\n",
    "                   \"Primary Energy Consumption (TWh)\": [22, 258, 1105, 12, 1406, 85, 62]})\n",
    "df"
   ]
  },
  {
   "attachments": {},
   "cell_type": "markdown",
   "metadata": {},
   "source": [
    "## Activity 1: Creating your own data and placing it into a Pandas dataframe   \n",
    "\n",
    "1. Using data from [OurWorldInData](https://ourworldindata.org/grapher/primary-sub-energy-source?tab=table), create a DataFrame for your group’s country which contains the primary energy consumption by source for at least 3 year and at least 3 sources.\n",
    "\n",
    "     Your index should be the year, and your columns should be the energy source\n",
    "\n",
    "2. Use the ```.mean()``` and ```.describe()``` methods for your data. Try setting the ```axis``` keyword to 0 or 1. What does it do?\n",
    "3. Try plotting the data using the .plot() method. Change the type of plot using the ```kind``` keyword argument.\n"
   ]
  },
  {
   "cell_type": "code",
   "execution_count": null,
   "metadata": {},
   "outputs": [],
   "source": [
    "# create your dataframe here\n",
    "\n",
    "import pandas as pd\n",
    "import requests\n",
    "\n",
    "# Fetch the data.\n",
    "bgl = pd.read_csv(\"https://ourworldindata.org/grapher/primary-sub-energy-source.csv?v=1&csvType=filtered&useColumnShortNames=true&tab=table&time=2021..2024&tableSearch=bangla&overlay=download-data\", storage_options = {'User-Agent': 'Our World In Data data fetch/1.0'})\n",
    "\n",
    "# Fetch the metadata\n",
    "metadata = requests.get(\"https://ourworldindata.org/grapher/primary-sub-energy-source.metadata.json?v=1&csvType=filtered&useColumnShortNames=true&tab=table&time=2021..2024&tableSearch=bangla&overlay=download-data\").json()\n",
    "bgl"
   ]
  },
  {
   "cell_type": "code",
   "execution_count": 4,
   "metadata": {},
   "outputs": [
    {
     "data": {
      "text/html": [
       "<div>\n",
       "<style scoped>\n",
       "    .dataframe tbody tr th:only-of-type {\n",
       "        vertical-align: middle;\n",
       "    }\n",
       "\n",
       "    .dataframe tbody tr th {\n",
       "        vertical-align: top;\n",
       "    }\n",
       "\n",
       "    .dataframe thead th {\n",
       "        text-align: right;\n",
       "    }\n",
       "</style>\n",
       "<table border=\"1\" class=\"dataframe\">\n",
       "  <thead>\n",
       "    <tr style=\"text-align: right;\">\n",
       "      <th></th>\n",
       "      <th>Country</th>\n",
       "      <th>Primary Energy Consumption (TWh)</th>\n",
       "    </tr>\n",
       "  </thead>\n",
       "  <tbody>\n",
       "    <tr>\n",
       "      <th>0</th>\n",
       "      <td>Namibia</td>\n",
       "      <td>22</td>\n",
       "    </tr>\n",
       "    <tr>\n",
       "      <th>1</th>\n",
       "      <td>Portugal</td>\n",
       "      <td>258</td>\n",
       "    </tr>\n",
       "    <tr>\n",
       "      <th>2</th>\n",
       "      <td>Egypt</td>\n",
       "      <td>1105</td>\n",
       "    </tr>\n",
       "    <tr>\n",
       "      <th>3</th>\n",
       "      <td>Haiti</td>\n",
       "      <td>12</td>\n",
       "    </tr>\n",
       "    <tr>\n",
       "      <th>4</th>\n",
       "      <td>Thailand</td>\n",
       "      <td>1406</td>\n",
       "    </tr>\n",
       "    <tr>\n",
       "      <th>5</th>\n",
       "      <td>Bolivia</td>\n",
       "      <td>85</td>\n",
       "    </tr>\n",
       "    <tr>\n",
       "      <th>6</th>\n",
       "      <td>Estonia</td>\n",
       "      <td>62</td>\n",
       "    </tr>\n",
       "  </tbody>\n",
       "</table>\n",
       "</div>"
      ],
      "text/plain": [
       "    Country  Primary Energy Consumption (TWh)\n",
       "0   Namibia                                22\n",
       "1  Portugal                               258\n",
       "2     Egypt                              1105\n",
       "3     Haiti                                12\n",
       "4  Thailand                              1406\n",
       "5   Bolivia                                85\n",
       "6   Estonia                                62"
      ]
     },
     "execution_count": 4,
     "metadata": {},
     "output_type": "execute_result"
    }
   ],
   "source": [
    "#create the df by hand and copying the values \n",
    "import pandas as pd\n",
    "d =  pd.DataFrame({\"year\": [2021, 2022,2023],\n",
    "                   \"hydropower_(TWh)\": [1.68 , 1.90,1.67 ],\n",
    "                    \"solar_(TWh)\" : [1.51,1.59,2.26  ],\n",
    "                    \"coal_(TWh)\" : [42.31,55.40 , 81.77 ]})\n",
    "df"
   ]
  },
  {
   "cell_type": "code",
   "execution_count": 5,
   "metadata": {},
   "outputs": [],
   "source": [
    "# understand how to use the .mean() function which is a method of the dataframe object\n",
    "\n",
    "\n"
   ]
  },
  {
   "cell_type": "code",
   "execution_count": 6,
   "metadata": {},
   "outputs": [],
   "source": [
    "# another useful built-in method for quick data exploration is the .plot() method"
   ]
  },
  {
   "cell_type": "markdown",
   "metadata": {},
   "source": [
    "### There are a few ways of importing data into Python and Pandas makes it very convenient.  \n",
    "  \n",
    "Have a look at the code below to see two examples  \n",
    "  \n",
    "`import pandas as pd\n",
    "df = pd.read_csv('filename.txt', sep=\" \", header=None, names=[\"a\",\"b\",\"c\"])`\n",
    "  \n",
    "Or  \n",
    "  \n",
    "`import pandas as pd \n",
    "df = pd.read_csv('file_location\\filename.txt', delimiter = \"\\t\")  # Can input a URL as well`\n",
    "\n"
   ]
  },
  {
   "cell_type": "markdown",
   "metadata": {},
   "source": [
    "#### Go ahead and import the data\n",
    "\n",
    "The code below will use a URL to import data on the power plants of the USA, using the simpliest form of input arguements to the Pandas `read_csv` function. Note how we imported Numpy as `np` and not Pandas as `pd`. Dataframes are conventionally called `df` in Python but you can rename to another logical variable name. \n"
   ]
  },
  {
   "cell_type": "code",
   "execution_count": 7,
   "metadata": {
    "code_folding": []
   },
   "outputs": [],
   "source": [
    "# The following implies an internet connection of course\n",
    "import pandas as pd\n",
    "usa_gen = pd.read_csv('https://raw.githubusercontent.com/wri/global-power-plant-database/master/source_databases_csv/database_USA.csv')\n"
   ]
  },
  {
   "cell_type": "markdown",
   "metadata": {},
   "source": [
    "#### Let's have a look at the data\n",
    "\n",
    "The `head` function is an easy way to inspect your dataset. The default number of rows to show is 5. Let's explore the dataset a bit. Use `df.head(20)` to see more rows etc. \n",
    "  \n",
    "  "
   ]
  },
  {
   "cell_type": "code",
   "execution_count": 8,
   "metadata": {},
   "outputs": [
    {
     "data": {
      "text/html": [
       "<div>\n",
       "<style scoped>\n",
       "    .dataframe tbody tr th:only-of-type {\n",
       "        vertical-align: middle;\n",
       "    }\n",
       "\n",
       "    .dataframe tbody tr th {\n",
       "        vertical-align: top;\n",
       "    }\n",
       "\n",
       "    .dataframe thead th {\n",
       "        text-align: right;\n",
       "    }\n",
       "</style>\n",
       "<table border=\"1\" class=\"dataframe\">\n",
       "  <thead>\n",
       "    <tr style=\"text-align: right;\">\n",
       "      <th></th>\n",
       "      <th>country</th>\n",
       "      <th>country_long</th>\n",
       "      <th>name</th>\n",
       "      <th>gppd_idnr</th>\n",
       "      <th>capacity_mw</th>\n",
       "      <th>latitude</th>\n",
       "      <th>longitude</th>\n",
       "      <th>primary_fuel</th>\n",
       "      <th>other_fuel1</th>\n",
       "      <th>other_fuel2</th>\n",
       "      <th>...</th>\n",
       "      <th>year_of_capacity_data</th>\n",
       "      <th>generation_gwh_2013</th>\n",
       "      <th>generation_gwh_2014</th>\n",
       "      <th>generation_gwh_2015</th>\n",
       "      <th>generation_gwh_2016</th>\n",
       "      <th>generation_gwh_2017</th>\n",
       "      <th>generation_gwh_2018</th>\n",
       "      <th>generation_gwh_2019</th>\n",
       "      <th>generation_data_source</th>\n",
       "      <th>estimated_generation_gwh</th>\n",
       "    </tr>\n",
       "  </thead>\n",
       "  <tbody>\n",
       "    <tr>\n",
       "      <th>0</th>\n",
       "      <td>USA</td>\n",
       "      <td>United States of America</td>\n",
       "      <td>10 Briggs Solar NG  LLC (East)</td>\n",
       "      <td>USA0062781</td>\n",
       "      <td>0.0</td>\n",
       "      <td>41.6327</td>\n",
       "      <td>-71.4963</td>\n",
       "      <td>NaN</td>\n",
       "      <td>NaN</td>\n",
       "      <td>NaN</td>\n",
       "      <td>...</td>\n",
       "      <td>2019.0</td>\n",
       "      <td>NaN</td>\n",
       "      <td>NaN</td>\n",
       "      <td>NaN</td>\n",
       "      <td>NaN</td>\n",
       "      <td>NaN</td>\n",
       "      <td>NaN</td>\n",
       "      <td>NaN</td>\n",
       "      <td>NaN</td>\n",
       "      <td>NaN</td>\n",
       "    </tr>\n",
       "    <tr>\n",
       "      <th>1</th>\n",
       "      <td>USA</td>\n",
       "      <td>United States of America</td>\n",
       "      <td>100 Brook Hill Drive Solar</td>\n",
       "      <td>USA0063292</td>\n",
       "      <td>2.0</td>\n",
       "      <td>41.0930</td>\n",
       "      <td>-73.9828</td>\n",
       "      <td>Solar</td>\n",
       "      <td>NaN</td>\n",
       "      <td>NaN</td>\n",
       "      <td>...</td>\n",
       "      <td>2019.0</td>\n",
       "      <td>NaN</td>\n",
       "      <td>NaN</td>\n",
       "      <td>NaN</td>\n",
       "      <td>NaN</td>\n",
       "      <td>NaN</td>\n",
       "      <td>NaN</td>\n",
       "      <td>2.467</td>\n",
       "      <td>U.S. Energy Information Administration</td>\n",
       "      <td>NaN</td>\n",
       "    </tr>\n",
       "    <tr>\n",
       "      <th>2</th>\n",
       "      <td>USA</td>\n",
       "      <td>United States of America</td>\n",
       "      <td>1001 Ebenezer Church Solar</td>\n",
       "      <td>USA0063444</td>\n",
       "      <td>0.0</td>\n",
       "      <td>36.2838</td>\n",
       "      <td>-80.8434</td>\n",
       "      <td>NaN</td>\n",
       "      <td>NaN</td>\n",
       "      <td>NaN</td>\n",
       "      <td>...</td>\n",
       "      <td>2019.0</td>\n",
       "      <td>NaN</td>\n",
       "      <td>NaN</td>\n",
       "      <td>NaN</td>\n",
       "      <td>NaN</td>\n",
       "      <td>NaN</td>\n",
       "      <td>NaN</td>\n",
       "      <td>NaN</td>\n",
       "      <td>NaN</td>\n",
       "      <td>NaN</td>\n",
       "    </tr>\n",
       "    <tr>\n",
       "      <th>3</th>\n",
       "      <td>USA</td>\n",
       "      <td>United States of America</td>\n",
       "      <td>1008 Matthews Solar</td>\n",
       "      <td>USA0063447</td>\n",
       "      <td>0.0</td>\n",
       "      <td>36.2167</td>\n",
       "      <td>-80.5525</td>\n",
       "      <td>NaN</td>\n",
       "      <td>NaN</td>\n",
       "      <td>NaN</td>\n",
       "      <td>...</td>\n",
       "      <td>2019.0</td>\n",
       "      <td>NaN</td>\n",
       "      <td>NaN</td>\n",
       "      <td>NaN</td>\n",
       "      <td>NaN</td>\n",
       "      <td>NaN</td>\n",
       "      <td>NaN</td>\n",
       "      <td>NaN</td>\n",
       "      <td>NaN</td>\n",
       "      <td>NaN</td>\n",
       "    </tr>\n",
       "    <tr>\n",
       "      <th>4</th>\n",
       "      <td>USA</td>\n",
       "      <td>United States of America</td>\n",
       "      <td>1009 Yadkin Solar</td>\n",
       "      <td>USA0063445</td>\n",
       "      <td>0.0</td>\n",
       "      <td>36.1475</td>\n",
       "      <td>-80.6561</td>\n",
       "      <td>NaN</td>\n",
       "      <td>NaN</td>\n",
       "      <td>NaN</td>\n",
       "      <td>...</td>\n",
       "      <td>2019.0</td>\n",
       "      <td>NaN</td>\n",
       "      <td>NaN</td>\n",
       "      <td>NaN</td>\n",
       "      <td>NaN</td>\n",
       "      <td>NaN</td>\n",
       "      <td>NaN</td>\n",
       "      <td>NaN</td>\n",
       "      <td>NaN</td>\n",
       "      <td>NaN</td>\n",
       "    </tr>\n",
       "    <tr>\n",
       "      <th>5</th>\n",
       "      <td>USA</td>\n",
       "      <td>United States of America</td>\n",
       "      <td>1025 Traveller Solar  LLC</td>\n",
       "      <td>USA0062660</td>\n",
       "      <td>5.0</td>\n",
       "      <td>35.4273</td>\n",
       "      <td>-79.1263</td>\n",
       "      <td>Solar</td>\n",
       "      <td>NaN</td>\n",
       "      <td>NaN</td>\n",
       "      <td>...</td>\n",
       "      <td>2019.0</td>\n",
       "      <td>NaN</td>\n",
       "      <td>NaN</td>\n",
       "      <td>NaN</td>\n",
       "      <td>NaN</td>\n",
       "      <td>NaN</td>\n",
       "      <td>NaN</td>\n",
       "      <td>1.332</td>\n",
       "      <td>U.S. Energy Information Administration</td>\n",
       "      <td>NaN</td>\n",
       "    </tr>\n",
       "    <tr>\n",
       "      <th>6</th>\n",
       "      <td>USA</td>\n",
       "      <td>United States of America</td>\n",
       "      <td>1045 Tomlin Mill Solar</td>\n",
       "      <td>USA0063448</td>\n",
       "      <td>0.0</td>\n",
       "      <td>35.9162</td>\n",
       "      <td>-80.8355</td>\n",
       "      <td>NaN</td>\n",
       "      <td>NaN</td>\n",
       "      <td>NaN</td>\n",
       "      <td>...</td>\n",
       "      <td>2019.0</td>\n",
       "      <td>NaN</td>\n",
       "      <td>NaN</td>\n",
       "      <td>NaN</td>\n",
       "      <td>NaN</td>\n",
       "      <td>NaN</td>\n",
       "      <td>NaN</td>\n",
       "      <td>NaN</td>\n",
       "      <td>NaN</td>\n",
       "      <td>NaN</td>\n",
       "    </tr>\n",
       "    <tr>\n",
       "      <th>7</th>\n",
       "      <td>USA</td>\n",
       "      <td>United States of America</td>\n",
       "      <td>1047 Little Mountain Solar  LLC</td>\n",
       "      <td>USA0062661</td>\n",
       "      <td>3.0</td>\n",
       "      <td>36.1971</td>\n",
       "      <td>-80.8067</td>\n",
       "      <td>Solar</td>\n",
       "      <td>NaN</td>\n",
       "      <td>NaN</td>\n",
       "      <td>...</td>\n",
       "      <td>2019.0</td>\n",
       "      <td>NaN</td>\n",
       "      <td>NaN</td>\n",
       "      <td>NaN</td>\n",
       "      <td>NaN</td>\n",
       "      <td>NaN</td>\n",
       "      <td>NaN</td>\n",
       "      <td>1.417</td>\n",
       "      <td>U.S. Energy Information Administration</td>\n",
       "      <td>NaN</td>\n",
       "    </tr>\n",
       "    <tr>\n",
       "      <th>8</th>\n",
       "      <td>USA</td>\n",
       "      <td>United States of America</td>\n",
       "      <td>1073 Onslow Solar</td>\n",
       "      <td>USA0063446</td>\n",
       "      <td>0.0</td>\n",
       "      <td>34.7736</td>\n",
       "      <td>-77.1858</td>\n",
       "      <td>NaN</td>\n",
       "      <td>NaN</td>\n",
       "      <td>NaN</td>\n",
       "      <td>...</td>\n",
       "      <td>2019.0</td>\n",
       "      <td>NaN</td>\n",
       "      <td>NaN</td>\n",
       "      <td>NaN</td>\n",
       "      <td>NaN</td>\n",
       "      <td>NaN</td>\n",
       "      <td>NaN</td>\n",
       "      <td>NaN</td>\n",
       "      <td>NaN</td>\n",
       "      <td>NaN</td>\n",
       "    </tr>\n",
       "    <tr>\n",
       "      <th>9</th>\n",
       "      <td>USA</td>\n",
       "      <td>United States of America</td>\n",
       "      <td>12 Applegate Solar LLC</td>\n",
       "      <td>USA0059371</td>\n",
       "      <td>1.9</td>\n",
       "      <td>40.2003</td>\n",
       "      <td>-74.5761</td>\n",
       "      <td>Solar</td>\n",
       "      <td>NaN</td>\n",
       "      <td>NaN</td>\n",
       "      <td>...</td>\n",
       "      <td>2019.0</td>\n",
       "      <td>2.41461</td>\n",
       "      <td>2.35</td>\n",
       "      <td>2.43</td>\n",
       "      <td>2.492</td>\n",
       "      <td>2.276</td>\n",
       "      <td>2.207</td>\n",
       "      <td>2.349</td>\n",
       "      <td>U.S. Energy Information Administration</td>\n",
       "      <td>NaN</td>\n",
       "    </tr>\n",
       "  </tbody>\n",
       "</table>\n",
       "<p>10 rows × 27 columns</p>\n",
       "</div>"
      ],
      "text/plain": [
       "  country              country_long                             name  \\\n",
       "0     USA  United States of America   10 Briggs Solar NG  LLC (East)   \n",
       "1     USA  United States of America       100 Brook Hill Drive Solar   \n",
       "2     USA  United States of America       1001 Ebenezer Church Solar   \n",
       "3     USA  United States of America              1008 Matthews Solar   \n",
       "4     USA  United States of America                1009 Yadkin Solar   \n",
       "5     USA  United States of America        1025 Traveller Solar  LLC   \n",
       "6     USA  United States of America           1045 Tomlin Mill Solar   \n",
       "7     USA  United States of America  1047 Little Mountain Solar  LLC   \n",
       "8     USA  United States of America                1073 Onslow Solar   \n",
       "9     USA  United States of America           12 Applegate Solar LLC   \n",
       "\n",
       "    gppd_idnr  capacity_mw  latitude  longitude primary_fuel other_fuel1  \\\n",
       "0  USA0062781          0.0   41.6327   -71.4963          NaN         NaN   \n",
       "1  USA0063292          2.0   41.0930   -73.9828        Solar         NaN   \n",
       "2  USA0063444          0.0   36.2838   -80.8434          NaN         NaN   \n",
       "3  USA0063447          0.0   36.2167   -80.5525          NaN         NaN   \n",
       "4  USA0063445          0.0   36.1475   -80.6561          NaN         NaN   \n",
       "5  USA0062660          5.0   35.4273   -79.1263        Solar         NaN   \n",
       "6  USA0063448          0.0   35.9162   -80.8355          NaN         NaN   \n",
       "7  USA0062661          3.0   36.1971   -80.8067        Solar         NaN   \n",
       "8  USA0063446          0.0   34.7736   -77.1858          NaN         NaN   \n",
       "9  USA0059371          1.9   40.2003   -74.5761        Solar         NaN   \n",
       "\n",
       "  other_fuel2  ... year_of_capacity_data  generation_gwh_2013  \\\n",
       "0         NaN  ...                2019.0                  NaN   \n",
       "1         NaN  ...                2019.0                  NaN   \n",
       "2         NaN  ...                2019.0                  NaN   \n",
       "3         NaN  ...                2019.0                  NaN   \n",
       "4         NaN  ...                2019.0                  NaN   \n",
       "5         NaN  ...                2019.0                  NaN   \n",
       "6         NaN  ...                2019.0                  NaN   \n",
       "7         NaN  ...                2019.0                  NaN   \n",
       "8         NaN  ...                2019.0                  NaN   \n",
       "9         NaN  ...                2019.0              2.41461   \n",
       "\n",
       "  generation_gwh_2014 generation_gwh_2015 generation_gwh_2016  \\\n",
       "0                 NaN                 NaN                 NaN   \n",
       "1                 NaN                 NaN                 NaN   \n",
       "2                 NaN                 NaN                 NaN   \n",
       "3                 NaN                 NaN                 NaN   \n",
       "4                 NaN                 NaN                 NaN   \n",
       "5                 NaN                 NaN                 NaN   \n",
       "6                 NaN                 NaN                 NaN   \n",
       "7                 NaN                 NaN                 NaN   \n",
       "8                 NaN                 NaN                 NaN   \n",
       "9                2.35                2.43               2.492   \n",
       "\n",
       "  generation_gwh_2017  generation_gwh_2018  generation_gwh_2019  \\\n",
       "0                 NaN                  NaN                  NaN   \n",
       "1                 NaN                  NaN                2.467   \n",
       "2                 NaN                  NaN                  NaN   \n",
       "3                 NaN                  NaN                  NaN   \n",
       "4                 NaN                  NaN                  NaN   \n",
       "5                 NaN                  NaN                1.332   \n",
       "6                 NaN                  NaN                  NaN   \n",
       "7                 NaN                  NaN                1.417   \n",
       "8                 NaN                  NaN                  NaN   \n",
       "9               2.276                2.207                2.349   \n",
       "\n",
       "                   generation_data_source  estimated_generation_gwh  \n",
       "0                                     NaN                       NaN  \n",
       "1  U.S. Energy Information Administration                       NaN  \n",
       "2                                     NaN                       NaN  \n",
       "3                                     NaN                       NaN  \n",
       "4                                     NaN                       NaN  \n",
       "5  U.S. Energy Information Administration                       NaN  \n",
       "6                                     NaN                       NaN  \n",
       "7  U.S. Energy Information Administration                       NaN  \n",
       "8                                     NaN                       NaN  \n",
       "9  U.S. Energy Information Administration                       NaN  \n",
       "\n",
       "[10 rows x 27 columns]"
      ]
     },
     "execution_count": 8,
     "metadata": {},
     "output_type": "execute_result"
    }
   ],
   "source": [
    "usa_gen.head(10)"
   ]
  },
  {
   "cell_type": "markdown",
   "metadata": {},
   "source": [
    "### Indexing with Pandas\n",
    "There are many ways to index"
   ]
  },
  {
   "cell_type": "code",
   "execution_count": 9,
   "metadata": {},
   "outputs": [
    {
     "data": {
      "text/plain": [
       "0     Namibia\n",
       "1    Portugal\n",
       "2       Egypt\n",
       "3       Haiti\n",
       "4    Thailand\n",
       "5     Bolivia\n",
       "6     Estonia\n",
       "Name: Country, dtype: object"
      ]
     },
     "execution_count": 9,
     "metadata": {},
     "output_type": "execute_result"
    }
   ],
   "source": [
    "# dot notation\n",
    "df.Country  "
   ]
  },
  {
   "cell_type": "code",
   "execution_count": 10,
   "metadata": {},
   "outputs": [
    {
     "data": {
      "text/plain": [
       "0      22\n",
       "1     258\n",
       "2    1105\n",
       "Name: Primary Energy Consumption (TWh), dtype: int64"
      ]
     },
     "execution_count": 10,
     "metadata": {},
     "output_type": "execute_result"
    }
   ],
   "source": [
    "# or using square brackets\n",
    "df[\"Primary Energy Consumption (TWh)\"].head(3)  "
   ]
  },
  {
   "cell_type": "code",
   "execution_count": 11,
   "metadata": {},
   "outputs": [
    {
     "data": {
      "text/plain": [
       "2       Egypt\n",
       "3       Haiti\n",
       "4    Thailand\n",
       "Name: Country, dtype: object"
      ]
     },
     "execution_count": 11,
     "metadata": {},
     "output_type": "execute_result"
    }
   ],
   "source": [
    "# or using the .loc function\n",
    "df.loc[2:4, \"Country\"]"
   ]
  },
  {
   "cell_type": "code",
   "execution_count": 12,
   "metadata": {},
   "outputs": [
    {
     "data": {
      "text/html": [
       "<div>\n",
       "<style scoped>\n",
       "    .dataframe tbody tr th:only-of-type {\n",
       "        vertical-align: middle;\n",
       "    }\n",
       "\n",
       "    .dataframe tbody tr th {\n",
       "        vertical-align: top;\n",
       "    }\n",
       "\n",
       "    .dataframe thead th {\n",
       "        text-align: right;\n",
       "    }\n",
       "</style>\n",
       "<table border=\"1\" class=\"dataframe\">\n",
       "  <thead>\n",
       "    <tr style=\"text-align: right;\">\n",
       "      <th></th>\n",
       "      <th>Country</th>\n",
       "      <th>Primary Energy Consumption (TWh)</th>\n",
       "    </tr>\n",
       "  </thead>\n",
       "  <tbody>\n",
       "    <tr>\n",
       "      <th>1</th>\n",
       "      <td>Portugal</td>\n",
       "      <td>258</td>\n",
       "    </tr>\n",
       "    <tr>\n",
       "      <th>2</th>\n",
       "      <td>Egypt</td>\n",
       "      <td>1105</td>\n",
       "    </tr>\n",
       "    <tr>\n",
       "      <th>4</th>\n",
       "      <td>Thailand</td>\n",
       "      <td>1406</td>\n",
       "    </tr>\n",
       "  </tbody>\n",
       "</table>\n",
       "</div>"
      ],
      "text/plain": [
       "    Country  Primary Energy Consumption (TWh)\n",
       "1  Portugal                               258\n",
       "2     Egypt                              1105\n",
       "4  Thailand                              1406"
      ]
     },
     "execution_count": 12,
     "metadata": {},
     "output_type": "execute_result"
    }
   ],
   "source": [
    "# you can also use conditional statements to index\n",
    "df[df[\"Primary Energy Consumption (TWh)\"] > 100]"
   ]
  },
  {
   "cell_type": "code",
   "execution_count": 13,
   "metadata": {},
   "outputs": [
    {
     "name": "stdout",
     "output_type": "stream",
     "text": [
      "Namibia\n",
      "Portugal\n",
      "Egypt\n",
      "Haiti\n",
      "Thailand\n",
      "Bolivia\n",
      "Estonia\n"
     ]
    }
   ],
   "source": [
    "# or use for loops to iterate through an axis\n",
    "for i, row in df.iterrows():\n",
    "    print(row[\"Country\"])"
   ]
  },
  {
   "cell_type": "markdown",
   "metadata": {},
   "source": [
    "## Activity 2\n",
    "\n",
    " Let's pull some data from the `usa_gen` DataFrame that we have loaded based on some of the information given to you through the graphic above. *Hint: It is best to only use the data that you need.\n",
    "&nbsp;\n",
    "\n",
    "**Use the cells below to print the following values:**\n",
    "\n",
    "1. The total number of power plants in the US.\n",
    "2. The minimum, maximum and average capacity of the plants in MW.\n",
    "3. The number of listed solar farms.\n",
    "4. The number of different plant types listed.\n",
    "5. The year with the highest generation from all of the plants."
   ]
  },
  {
   "cell_type": "code",
   "execution_count": 15,
   "metadata": {
    "code_folding": []
   },
   "outputs": [
    {
     "name": "stdout",
     "output_type": "stream",
     "text": [
      "5607\n"
     ]
    }
   ],
   "source": [
    "# The total number of power plants in the US with capacity greater than 5MW.\n",
    "\n",
    "big_capacity = usa_gen[usa_gen[\"capacity_mw\"]>5]\n",
    "\n",
    "nb_pp = len(big_capacity)\n",
    "print(nb_pp)"
   ]
  },
  {
   "cell_type": "code",
   "execution_count": 17,
   "metadata": {},
   "outputs": [
    {
     "name": "stdout",
     "output_type": "stream",
     "text": [
      "0.0 6809.0 101.4094915396919\n"
     ]
    }
   ],
   "source": [
    "# The minimum, maximum and average capacity of the plants in MW.\n",
    "min_capacity = usa_gen[\"capacity_mw\"].min()\n",
    "max_capacity = usa_gen[\"capacity_mw\"].max()\n",
    "avg_capacity = usa_gen[\"capacity_mw\"].mean()\n",
    "\n",
    "print(min_capacity,\n",
    "max_capacity,\n",
    "avg_capacity)"
   ]
  },
  {
   "cell_type": "code",
   "execution_count": null,
   "metadata": {},
   "outputs": [],
   "source": [
    "# The number of listed solar farms.\n"
   ]
  },
  {
   "cell_type": "code",
   "execution_count": null,
   "metadata": {},
   "outputs": [],
   "source": [
    "# The number of different plant types listed."
   ]
  },
  {
   "cell_type": "code",
   "execution_count": null,
   "metadata": {},
   "outputs": [],
   "source": [
    "# The year with the highest generation from all of the plants."
   ]
  },
  {
   "cell_type": "markdown",
   "metadata": {},
   "source": [
    "### Statistics, plotting etc\n",
    "Pandas also provides lots of functions that can be used for statistical analysis and plotting (and many more) of large datasets"
   ]
  },
  {
   "cell_type": "code",
   "execution_count": null,
   "metadata": {},
   "outputs": [],
   "source": [
    "# to calculate some summary statistics on the USA power plant capacity data\n",
    "usa_gen[\"capacity_mw\"].describe()"
   ]
  },
  {
   "cell_type": "code",
   "execution_count": null,
   "metadata": {},
   "outputs": [],
   "source": [
    "# to plot capacity vs commissioning year\n",
    "usa_gen.plot(x=\"commissioning_year\", y=\"capacity_mw\", kind='scatter')"
   ]
  },
  {
   "cell_type": "markdown",
   "metadata": {},
   "source": [
    "## Activity 3\n",
    "Try changing the variables and type of plot produced to investigate other features in the data."
   ]
  },
  {
   "cell_type": "markdown",
   "metadata": {},
   "source": []
  }
 ],
 "metadata": {
  "anaconda-cloud": {},
  "kernelspec": {
   "display_name": "Python 3 (ipykernel)",
   "language": "python",
   "name": "python3"
  },
  "language_info": {
   "codemirror_mode": {
    "name": "ipython",
    "version": 3
   },
   "file_extension": ".py",
   "mimetype": "text/x-python",
   "name": "python",
   "nbconvert_exporter": "python",
   "pygments_lexer": "ipython3",
   "version": "3.12.12"
  }
 },
 "nbformat": 4,
 "nbformat_minor": 4
}
